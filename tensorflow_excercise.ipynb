{
  "nbformat": 4,
  "nbformat_minor": 0,
  "metadata": {
    "colab": {
      "provenance": [],
      "authorship_tag": "ABX9TyMk3bdr5lydkVB/HIISnPPO",
      "include_colab_link": true
    },
    "kernelspec": {
      "name": "python3",
      "display_name": "Python 3"
    },
    "language_info": {
      "name": "python"
    },
    "accelerator": "GPU",
    "gpuClass": "standard"
  },
  "cells": [
    {
      "cell_type": "markdown",
      "metadata": {
        "id": "view-in-github",
        "colab_type": "text"
      },
      "source": [
        "<a href=\"https://colab.research.google.com/github/mukeshrock7897/tensorflow-excercise/blob/main/tensorflow_excercise.ipynb\" target=\"_parent\"><img src=\"https://colab.research.google.com/assets/colab-badge.svg\" alt=\"Open In Colab\"/></a>"
      ]
    },
    {
      "cell_type": "code",
      "execution_count": null,
      "metadata": {
        "colab": {
          "base_uri": "https://localhost:8080/"
        },
        "id": "aZts4UzYyfPT",
        "outputId": "5d5c4d16-65ec-4bca-de7a-0a475a22fe65"
      },
      "outputs": [
        {
          "output_type": "stream",
          "name": "stdout",
          "text": [
            "this is tensorflow\n"
          ]
        }
      ],
      "source": [
        "print(\"this is tensorflow\")"
      ]
    },
    {
      "cell_type": "code",
      "source": [
        "print(\"this is second print!!!!!!!!\")"
      ],
      "metadata": {
        "id": "jX-zfxL_ylC9",
        "colab": {
          "base_uri": "https://localhost:8080/"
        },
        "outputId": "09dc92ed-4ad8-4086-f3a4-b60bb2843570"
      },
      "execution_count": 1,
      "outputs": [
        {
          "output_type": "stream",
          "name": "stdout",
          "text": [
            "this is second print!!!!!!!!\n"
          ]
        }
      ]
    },
    {
      "cell_type": "markdown",
      "source": [],
      "metadata": {
        "id": "pbHG0Rag1I5q"
      }
    },
    {
      "cell_type": "code",
      "source": [
        "print(\"this is third print just fro testing \")"
      ],
      "metadata": {
        "id": "HH1j6gAd1SDq"
      },
      "execution_count": null,
      "outputs": []
    },
    {
      "cell_type": "markdown",
      "source": [],
      "metadata": {
        "id": "zMmZaaLqzEAP"
      }
    }
  ]
}